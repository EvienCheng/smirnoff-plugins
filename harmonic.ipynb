{
 "cells": [
  {
   "cell_type": "code",
   "execution_count": 1,
   "id": "39b6c899-4881-448a-9b05-64db4bfb5682",
   "metadata": {},
   "outputs": [],
   "source": [
    "from openff.toolkit import ForceField\n",
    "force_field = ForceField(load_plugins=True)"
   ]
  },
  {
   "cell_type": "code",
   "execution_count": 2,
   "id": "0247bd4d-7e8c-4d6d-a002-bef541fea25f",
   "metadata": {},
   "outputs": [],
   "source": [
    "from openff.units import unit\n"
   ]
  },
  {
   "cell_type": "code",
   "execution_count": 3,
   "id": "bf54f815-e025-4669-a78c-e1c712e9c87e",
   "metadata": {},
   "outputs": [],
   "source": [
    "# harmonic_height_handler = force_field.get_parameter_handler(\"HarmonicHeight\")\n",
    "\n",
    "# harmonic_height_handler.add_parameter(\n",
    "#     {\n",
    "#         \"smirks\": \"[*:1]-[#7X3:2](-[*:3])-[*:4]\", \n",
    "#         \"k\": 10.0 * unit.kilojoule_per_mole / unit.nanometer ** 2,  \n",
    "#         \"h0\": 0.1 * unit.nanometer,  \n",
    "#     }\n",
    "# )\n",
    "\n",
    "# harmonic_height_handler.add_parameter(\n",
    "#     {\n",
    "#         \"smirks\": \"[#6X3:1]~[#7:2](~[#6X3:3])~[#1:4]\",\n",
    "#         \"k\": 50.0 * unit.kilojoule_per_mole / unit.nanometer ** 2,  \n",
    "#         \"h0\": 0.05 * unit.nanometer,  \n",
    "#     }\n",
    "# )\n"
   ]
  },
  {
   "cell_type": "code",
   "execution_count": 4,
   "id": "0f68499a-b04a-47b2-9946-f876ea619bba",
   "metadata": {},
   "outputs": [],
   "source": [
    "harmonic_height_handler = force_field.get_parameter_handler(\"LeeKrimm\")\n",
    "\n",
    "harmonic_height_handler.add_parameter(\n",
    "    {\n",
    "        \"smirks\": \"[*:1]-[#7X3:2](-[*:3])-[*:4]\", \n",
    "        \"V2\": 10.0 * unit.kilojoule_per_mole,  \n",
    "        \"V4\": 5.0 * unit.kilojoule_per_mole,  \n",
    "        \"t\": 2.0 * unit.dimensionless,  \n",
    "        \"s\": 1.0 * unit.dimensionless,  \n",
    "    }\n",
    ")\n",
    "\n",
    "harmonic_height_handler.add_parameter(\n",
    "    {\n",
    "        \"smirks\": \"[#6X3:1]~[#7:2](~[#6X3:3])~[#1:4]\",\n",
    "        \"V2\": 50.0 * unit.kilojoule_per_mole,  \n",
    "        \"V4\": 25.0 * unit.kilojoule_per_mole,  \n",
    "        \"t\": 2.5 * unit.dimensionless,  \n",
    "        \"s\": 1.2 * unit.dimensionless,  \n",
    "    }\n",
    ")\n"
   ]
  },
  {
   "cell_type": "code",
   "execution_count": 5,
   "id": "71aa3136-b3cf-4cad-bf0e-820dad20231e",
   "metadata": {},
   "outputs": [],
   "source": [
    "# lee_krimm_handler = force_field.get_parameter_handler(\"TwoMinima\")\n",
    "\n",
    "# lee_krimm_handler.add_parameter(\n",
    "#     {\n",
    "#         \"smirks\": \"[*:1]-[#7X3:2](-[*:3])-[*:4]\",\n",
    "#         \"k1\": 10.0 * unit.kilojoule_per_mole,  \n",
    "#         \"k2\": 5.0 * unit.kilojoule_per_mole,  \n",
    "#         \"periodicity\": 1,\n",
    "#         \"phase\": 0.0 * unit.radian, \n",
    "#     }\n",
    "# )\n",
    "\n",
    "# lee_krimm_handler.add_parameter(\n",
    "#     {\n",
    "#         \"smirks\": \"[#6X3:1]~[#7:2](~[#6X3:3])~[#1:4]\",\n",
    "#         \"k1\": 50.0 * unit.kilojoule_per_mole,  \n",
    "#         \"k2\": 25.0 * unit.kilojoule_per_mole,  \n",
    "#         \"periodicity\": 1,  \n",
    "#         \"phase\": 0.0 * unit.radian,  \n",
    "#     }\n",
    "# )\n"
   ]
  },
  {
   "cell_type": "code",
   "execution_count": null,
   "id": "0f432e96-c983-4aaa-b5cb-31cdb59f53ab",
   "metadata": {},
   "outputs": [],
   "source": []
  },
  {
   "cell_type": "code",
   "execution_count": 6,
   "id": "90bd3117-1982-411e-8411-bccc846201f2",
   "metadata": {},
   "outputs": [],
   "source": [
    "# force_field.to_file(\"harmonic-force-field-test.offxml\")\n",
    "force_field.to_file(\"lee-krimm-force-field.offxml\")\n",
    "# force_field.to_file(\"two-minima-force-field.offxml\")\n"
   ]
  },
  {
   "cell_type": "markdown",
   "id": "94ee753b-f5f9-474c-ab71-f9a2320f04c0",
   "metadata": {},
   "source": [
    "https://github.com/openforcefield/openff-toolkit/blob/main/openff/toolkit/typing/engines/smirnoff/parameters.py"
   ]
  },
  {
   "cell_type": "code",
   "execution_count": null,
   "id": "02a8445a-341d-41aa-861a-6525060fafa4",
   "metadata": {},
   "outputs": [],
   "source": []
  }
 ],
 "metadata": {
  "kernelspec": {
   "display_name": "Python 3 (ipykernel)",
   "language": "python",
   "name": "python3"
  },
  "language_info": {
   "codemirror_mode": {
    "name": "ipython",
    "version": 3
   },
   "file_extension": ".py",
   "mimetype": "text/x-python",
   "name": "python",
   "nbconvert_exporter": "python",
   "pygments_lexer": "ipython3",
   "version": "3.12.7"
  }
 },
 "nbformat": 4,
 "nbformat_minor": 5
}
