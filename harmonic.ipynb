{
 "cells": [
  {
   "cell_type": "code",
   "execution_count": 9,
   "id": "39b6c899-4881-448a-9b05-64db4bfb5682",
   "metadata": {},
   "outputs": [],
   "source": [
    "import math\n",
    "import numpy\n",
    "import openmm.unit\n",
    "from openff.toolkit.topology import Molecule, Topology\n",
    "from openff.toolkit.typing.engines.smirnoff import ForceField, ParameterList\n",
    "from openff.units import Quantity, unit\n",
    "from smirnoff_plugins.utilities.openmm import simulate\n"
   ]
  },
  {
   "cell_type": "code",
   "execution_count": 15,
   "id": "7553135a-78cc-4943-8909-1f4e02df8ae2",
   "metadata": {},
   "outputs": [],
   "source": [
    "def build_force_field() -> ForceField:    \n",
    "    force_field = ForceField(load_plugins=True)\n",
    "    \n",
    "    improper_handler = force_field.get_parameter_handler(\n",
    "        \"ImproperTorsions\"\n",
    "    )\n",
    "    \n",
    "    improper_handler.add_parameter(\n",
    "        {\n",
    "            \"smirks\": \"[#6:1]=[#6:2]-[#7:3]-[#6:4]\",\n",
    "            \"length_eq\": 1.2 * unit.angstrom,\n",
    "            \"k\": 5.0 * unit.kilocalorie / unit.mole / unit.angstrom**2,\n",
    "        }\n",
    "    )\n",
    "\n",
    "    return force_field\n"
   ]
  },
  {
   "cell_type": "code",
   "execution_count": 16,
   "id": "8a30f522-7469-45ad-896d-3c0e09572f70",
   "metadata": {},
   "outputs": [
    {
     "ename": "SMIRNOFFSpecError",
     "evalue": "<class 'openff.toolkit.typing.engines.smirnoff.parameters.ImproperTorsionHandler.ImproperTorsionType'> require the following missing parameters: ['periodicity', 'phase']. Defined kwargs are ['k', 'length_eq', 'smirks']",
     "output_type": "error",
     "traceback": [
      "\u001b[0;31m---------------------------------------------------------------------------\u001b[0m",
      "\u001b[0;31mSMIRNOFFSpecError\u001b[0m                         Traceback (most recent call last)",
      "Cell \u001b[0;32mIn[16], line 1\u001b[0m\n\u001b[0;32m----> 1\u001b[0m force_field \u001b[38;5;241m=\u001b[39m \u001b[43mbuild_force_field\u001b[49m\u001b[43m(\u001b[49m\u001b[43m)\u001b[49m\n\u001b[1;32m      2\u001b[0m force_field \u001b[38;5;241m=\u001b[39m ForceField(\u001b[38;5;124m\"\u001b[39m\u001b[38;5;124mimproper-torsion-harmonic-force-field.offxml\u001b[39m\u001b[38;5;124m\"\u001b[39m)\n\u001b[1;32m      4\u001b[0m molecule: Molecule \u001b[38;5;241m=\u001b[39m Molecule\u001b[38;5;241m.\u001b[39mfrom_smiles(\u001b[38;5;124m\"\u001b[39m\u001b[38;5;124mC=O\u001b[39m\u001b[38;5;124m\"\u001b[39m)\n",
      "Cell \u001b[0;32mIn[15], line 8\u001b[0m, in \u001b[0;36mbuild_force_field\u001b[0;34m()\u001b[0m\n\u001b[1;32m      2\u001b[0m force_field \u001b[38;5;241m=\u001b[39m ForceField(load_plugins\u001b[38;5;241m=\u001b[39m\u001b[38;5;28;01mTrue\u001b[39;00m)\n\u001b[1;32m      4\u001b[0m improper_handler \u001b[38;5;241m=\u001b[39m force_field\u001b[38;5;241m.\u001b[39mget_parameter_handler(\n\u001b[1;32m      5\u001b[0m     \u001b[38;5;124m\"\u001b[39m\u001b[38;5;124mImproperTorsions\u001b[39m\u001b[38;5;124m\"\u001b[39m\n\u001b[1;32m      6\u001b[0m )\n\u001b[0;32m----> 8\u001b[0m \u001b[43mimproper_handler\u001b[49m\u001b[38;5;241;43m.\u001b[39;49m\u001b[43madd_parameter\u001b[49m\u001b[43m(\u001b[49m\n\u001b[1;32m      9\u001b[0m \u001b[43m    \u001b[49m\u001b[43m{\u001b[49m\n\u001b[1;32m     10\u001b[0m \u001b[43m        \u001b[49m\u001b[38;5;124;43m\"\u001b[39;49m\u001b[38;5;124;43msmirks\u001b[39;49m\u001b[38;5;124;43m\"\u001b[39;49m\u001b[43m:\u001b[49m\u001b[43m \u001b[49m\u001b[38;5;124;43m\"\u001b[39;49m\u001b[38;5;124;43m[#6:1]=[#6:2]-[#7:3]-[#6:4]\u001b[39;49m\u001b[38;5;124;43m\"\u001b[39;49m\u001b[43m,\u001b[49m\n\u001b[1;32m     11\u001b[0m \u001b[43m        \u001b[49m\u001b[38;5;124;43m\"\u001b[39;49m\u001b[38;5;124;43mlength_eq\u001b[39;49m\u001b[38;5;124;43m\"\u001b[39;49m\u001b[43m:\u001b[49m\u001b[43m \u001b[49m\u001b[38;5;241;43m1.2\u001b[39;49m\u001b[43m \u001b[49m\u001b[38;5;241;43m*\u001b[39;49m\u001b[43m \u001b[49m\u001b[43munit\u001b[49m\u001b[38;5;241;43m.\u001b[39;49m\u001b[43mangstrom\u001b[49m\u001b[43m,\u001b[49m\n\u001b[1;32m     12\u001b[0m \u001b[43m        \u001b[49m\u001b[38;5;124;43m\"\u001b[39;49m\u001b[38;5;124;43mk\u001b[39;49m\u001b[38;5;124;43m\"\u001b[39;49m\u001b[43m:\u001b[49m\u001b[43m \u001b[49m\u001b[38;5;241;43m5.0\u001b[39;49m\u001b[43m \u001b[49m\u001b[38;5;241;43m*\u001b[39;49m\u001b[43m \u001b[49m\u001b[43munit\u001b[49m\u001b[38;5;241;43m.\u001b[39;49m\u001b[43mkilocalorie\u001b[49m\u001b[43m \u001b[49m\u001b[38;5;241;43m/\u001b[39;49m\u001b[43m \u001b[49m\u001b[43munit\u001b[49m\u001b[38;5;241;43m.\u001b[39;49m\u001b[43mmole\u001b[49m\u001b[43m \u001b[49m\u001b[38;5;241;43m/\u001b[39;49m\u001b[43m \u001b[49m\u001b[43munit\u001b[49m\u001b[38;5;241;43m.\u001b[39;49m\u001b[43mangstrom\u001b[49m\u001b[38;5;241;43m*\u001b[39;49m\u001b[38;5;241;43m*\u001b[39;49m\u001b[38;5;241;43m2\u001b[39;49m\u001b[43m,\u001b[49m\n\u001b[1;32m     13\u001b[0m \u001b[43m    \u001b[49m\u001b[43m}\u001b[49m\n\u001b[1;32m     14\u001b[0m \u001b[43m\u001b[49m\u001b[43m)\u001b[49m\n\u001b[1;32m     16\u001b[0m \u001b[38;5;28;01mreturn\u001b[39;00m force_field\n",
      "File \u001b[0;32m~/miniconda3/envs/smirnoff-plugins/lib/python3.12/site-packages/openff/toolkit/typing/engines/smirnoff/parameters.py:2092\u001b[0m, in \u001b[0;36mParameterHandler.add_parameter\u001b[0;34m(self, parameter_kwargs, parameter, after, before, allow_duplicate_smirks)\u001b[0m\n\u001b[1;32m   2088\u001b[0m \u001b[38;5;66;03m# If a dict was passed, construct it; if a ParameterType was passed, do nothing\u001b[39;00m\n\u001b[1;32m   2089\u001b[0m \u001b[38;5;28;01mif\u001b[39;00m parameter_kwargs:\n\u001b[1;32m   2090\u001b[0m     \u001b[38;5;66;03m# here we are using the INFOTYPE to construct a new parameter\u001b[39;00m\n\u001b[1;32m   2091\u001b[0m     \u001b[38;5;66;03m# and at this poitn we expect parameter_kwargs to be a dict\u001b[39;00m\n\u001b[0;32m-> 2092\u001b[0m     new_parameter \u001b[38;5;241m=\u001b[39m \u001b[38;5;28;43mself\u001b[39;49m\u001b[38;5;241;43m.\u001b[39;49m\u001b[43m_INFOTYPE\u001b[49m\u001b[43m(\u001b[49m\u001b[38;5;241;43m*\u001b[39;49m\u001b[38;5;241;43m*\u001b[39;49m\u001b[43mparameter_kwargs\u001b[49m\u001b[43m)\u001b[49m  \u001b[38;5;66;03m# type: ignore[misc]\u001b[39;00m\n\u001b[1;32m   2093\u001b[0m \u001b[38;5;28;01melif\u001b[39;00m parameter:\n\u001b[1;32m   2094\u001b[0m     new_parameter \u001b[38;5;241m=\u001b[39m parameter\n",
      "File \u001b[0;32m~/miniconda3/envs/smirnoff-plugins/lib/python3.12/site-packages/openff/toolkit/typing/engines/smirnoff/parameters.py:1798\u001b[0m, in \u001b[0;36mParameterType.__init__\u001b[0;34m(self, smirks, allow_cosmetic_attributes, **kwargs)\u001b[0m\n\u001b[1;32m   1796\u001b[0m \u001b[38;5;66;03m# This is just to make smirks a required positional argument.\u001b[39;00m\n\u001b[1;32m   1797\u001b[0m kwargs[\u001b[38;5;124m\"\u001b[39m\u001b[38;5;124msmirks\u001b[39m\u001b[38;5;124m\"\u001b[39m] \u001b[38;5;241m=\u001b[39m smirks\n\u001b[0;32m-> 1798\u001b[0m \u001b[38;5;28;43msuper\u001b[39;49m\u001b[43m(\u001b[49m\u001b[43m)\u001b[49m\u001b[38;5;241;43m.\u001b[39;49m\u001b[38;5;21;43m__init__\u001b[39;49m\u001b[43m(\u001b[49m\u001b[43mallow_cosmetic_attributes\u001b[49m\u001b[38;5;241;43m=\u001b[39;49m\u001b[43mallow_cosmetic_attributes\u001b[49m\u001b[43m,\u001b[49m\u001b[43m \u001b[49m\u001b[38;5;241;43m*\u001b[39;49m\u001b[38;5;241;43m*\u001b[39;49m\u001b[43mkwargs\u001b[49m\u001b[43m)\u001b[49m\n",
      "File \u001b[0;32m~/miniconda3/envs/smirnoff-plugins/lib/python3.12/site-packages/openff/toolkit/typing/engines/smirnoff/parameters.py:856\u001b[0m, in \u001b[0;36m_ParameterAttributeHandler.__init__\u001b[0;34m(self, allow_cosmetic_attributes, **kwargs)\u001b[0m\n\u001b[1;32m    851\u001b[0m \u001b[38;5;28;01mif\u001b[39;00m \u001b[38;5;28mlen\u001b[39m(missing_attributes) \u001b[38;5;241m!=\u001b[39m \u001b[38;5;241m0\u001b[39m:\n\u001b[1;32m    852\u001b[0m     msg \u001b[38;5;241m=\u001b[39m (\n\u001b[1;32m    853\u001b[0m         \u001b[38;5;124mf\u001b[39m\u001b[38;5;124m\"\u001b[39m\u001b[38;5;132;01m{\u001b[39;00m\u001b[38;5;28mself\u001b[39m\u001b[38;5;241m.\u001b[39m\u001b[38;5;18m__class__\u001b[39m\u001b[38;5;132;01m}\u001b[39;00m\u001b[38;5;124m require the following missing parameters: \u001b[39m\u001b[38;5;132;01m{\u001b[39;00m\u001b[38;5;28msorted\u001b[39m(missing_attributes)\u001b[38;5;132;01m}\u001b[39;00m\u001b[38;5;124m.\u001b[39m\u001b[38;5;124m\"\u001b[39m\n\u001b[1;32m    854\u001b[0m         \u001b[38;5;124mf\u001b[39m\u001b[38;5;124m\"\u001b[39m\u001b[38;5;124m Defined kwargs are \u001b[39m\u001b[38;5;132;01m{\u001b[39;00m\u001b[38;5;28msorted\u001b[39m(smirnoff_data\u001b[38;5;241m.\u001b[39mkeys())\u001b[38;5;132;01m}\u001b[39;00m\u001b[38;5;124m\"\u001b[39m\n\u001b[1;32m    855\u001b[0m     )\n\u001b[0;32m--> 856\u001b[0m     \u001b[38;5;28;01mraise\u001b[39;00m SMIRNOFFSpecError(msg)\n\u001b[1;32m    858\u001b[0m \u001b[38;5;66;03m# Finally, set attributes of this ParameterType and handle cosmetic attributes.\u001b[39;00m\n\u001b[1;32m    859\u001b[0m allowed_attributes \u001b[38;5;241m=\u001b[39m \u001b[38;5;28mset\u001b[39m(\u001b[38;5;28mself\u001b[39m\u001b[38;5;241m.\u001b[39m_get_parameter_attributes()\u001b[38;5;241m.\u001b[39mkeys())\n",
      "\u001b[0;31mSMIRNOFFSpecError\u001b[0m: <class 'openff.toolkit.typing.engines.smirnoff.parameters.ImproperTorsionHandler.ImproperTorsionType'> require the following missing parameters: ['periodicity', 'phase']. Defined kwargs are ['k', 'length_eq', 'smirks']"
     ]
    }
   ],
   "source": [
    "force_field = build_force_field()\n",
    "force_field = ForceField(\"improper-torsion-harmonic-force-field.offxml\")\n",
    "\n",
    "molecule: Molecule = Molecule.from_smiles(\"C=O\")\n",
    "molecule.generate_conformers(n_conformers=1)\n",
    "\n",
    "n_molecules = 100 \n",
    "\n",
    "topology: Topology = Topology.from_molecules([molecule] * n_molecules)\n",
    "\n",
    "topology.box_vectors = Quantity(\n",
    "    numpy.eye(3) * math.ceil(n_molecules ** (1 / 3) + 2) * 2.5,\n",
    "    unit.angstrom,\n",
    ")\n",
    "\n",
    "positions = openmm.unit.Quantity(\n",
    "    numpy.vstack(\n",
    "        [\n",
    "            (\n",
    "                molecule.conformers[0].m_as(unit.angstrom)\n",
    "                + numpy.array([[x, y, z]]) * 2.5\n",
    "            )\n",
    "            for x in range(math.ceil(n_molecules ** (1 / 3)))\n",
    "            for y in range(math.ceil(n_molecules ** (1 / 3)))\n",
    "            for z in range(math.ceil(n_molecules ** (1 / 3)))\n",
    "        ]\n",
    "    ),\n",
    "    openmm.unit.angstrom,\n",
    ")\n",
    "\n",
    "simulate(\n",
    "    force_field=force_field,\n",
    "    topology=topology,\n",
    "    positions=positions,\n",
    "    box_vectors=None if n_molecules == 1 else topology.box_vectors.to_openmm(),\n",
    "    n_steps=2000,\n",
    "    temperature=300.0,\n",
    "    pressure=None if n_molecules == 1 else 1.0 * openmm.unit.atmosphere,\n",
    "    platform=\"Reference\" if n_molecules == 1 else \"OpenCL\",\n",
    "    output_directory=\"simulation-output\",\n",
    ")\n",
    "\n"
   ]
  },
  {
   "cell_type": "code",
   "execution_count": null,
   "id": "0247bd4d-7e8c-4d6d-a002-bef541fea25f",
   "metadata": {},
   "outputs": [],
   "source": []
  }
 ],
 "metadata": {
  "kernelspec": {
   "display_name": "Python 3 (ipykernel)",
   "language": "python",
   "name": "python3"
  },
  "language_info": {
   "codemirror_mode": {
    "name": "ipython",
    "version": 3
   },
   "file_extension": ".py",
   "mimetype": "text/x-python",
   "name": "python",
   "nbconvert_exporter": "python",
   "pygments_lexer": "ipython3",
   "version": "3.12.7"
  }
 },
 "nbformat": 4,
 "nbformat_minor": 5
}
