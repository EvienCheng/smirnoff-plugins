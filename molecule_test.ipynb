{
 "cells": [
  {
   "cell_type": "code",
   "execution_count": 93,
   "id": "e812fd24-a93e-4c07-b32b-367b252bfcd6",
   "metadata": {},
   "outputs": [],
   "source": [
    "from openff.toolkit import ForceField, Molecule\n",
    "from openmm import openmm\n",
    "from openmm import unit\n",
    "import matplotlib.pyplot as plt\n",
    "from rdkit import Chem\n",
    "from rdkit.Chem import Draw\n",
    "import numpy as np"
   ]
  },
  {
   "cell_type": "code",
   "execution_count": 94,
   "id": "7720f256-6acf-4656-8517-e3d3e82eb317",
   "metadata": {},
   "outputs": [],
   "source": [
    "class Reporter(openmm.MinimizationReporter):\n",
    "    interval = 10 # report interval\n",
    "    energies = [] # array to record progress\n",
    "    def report(self, iteration, x, grad, args):\n",
    "        # print current system energy to screen \n",
    "        if iteration % self.interval == 0:\n",
    "            print(iteration, args['system energy'])\n",
    "\n",
    "        # save energy at each iteration to an array we can use later\n",
    "        self.energies.append(args['system energy'])\n",
    "\n",
    "        # The report method must return a bool specifying if minimization should be stopped. \n",
    "        return False"
   ]
  },
  {
   "cell_type": "code",
   "execution_count": 95,
   "id": "de06104f-ce21-46c5-b506-a05b2f0e1544",
   "metadata": {
    "scrolled": true
   },
   "outputs": [],
   "source": [
    "mol = Molecule.from_smiles('CCCC(O)CC(N)CCC', allow_undefined_stereo=True)\n",
    "mol.generate_conformers()\n",
    "# mol.assign_partial_charges(partial_charge_method='am1bccelf10')"
   ]
  },
  {
   "cell_type": "code",
   "execution_count": 96,
   "id": "5b6fc82f-0287-492c-b81a-73a2deb77780",
   "metadata": {},
   "outputs": [
    {
     "name": "stdout",
     "output_type": "stream",
     "text": [
      "Number of atoms in molecule: 32\n",
      "Number of conformers: 1\n"
     ]
    }
   ],
   "source": [
    "print(f\"Number of atoms in molecule: {mol.n_atoms}\")\n",
    "print(f\"Number of conformers: {len(mol.conformers)}\")\n"
   ]
  },
  {
   "cell_type": "code",
   "execution_count": 97,
   "id": "536aca60-9581-45d4-b6be-5809a4cbeb13",
   "metadata": {},
   "outputs": [],
   "source": [
    "forcefield = ForceField('harmonic-force-field.offxml', load_plugins = True, allow_cosmetic_attributes = True)\n",
    "# forcefield = ForceField('openff-2.2.0.offxml')"
   ]
  },
  {
   "cell_type": "code",
   "execution_count": 98,
   "id": "137233c9-cd98-45f7-89d2-cd809c076b22",
   "metadata": {},
   "outputs": [],
   "source": [
    "system = forcefield.create_openmm_system(mol.to_topology())"
   ]
  },
  {
   "cell_type": "code",
   "execution_count": 99,
   "id": "e88f3ac2-ad93-4903-80e5-c4f36ef63cdd",
   "metadata": {},
   "outputs": [
    {
     "name": "stdout",
     "output_type": "stream",
     "text": [
      "Force 0: <class 'openmm.openmm.NonbondedForce'>\n",
      "Force 1: <class 'openmm.openmm.PeriodicTorsionForce'>\n",
      "Force 2: <class 'openmm.openmm.HarmonicAngleForce'>\n",
      "Force 3: <class 'openmm.openmm.HarmonicBondForce'>\n",
      "Force 4: <class 'openmm.openmm.CustomCompoundBondForce'>\n"
     ]
    }
   ],
   "source": [
    "for i in range(system.getNumForces()):\n",
    "    force = system.getForce(i)\n",
    "    print(f\"Force {i}: {type(force)}\")\n"
   ]
  },
  {
   "cell_type": "code",
   "execution_count": 100,
   "id": "692524b8-b9f1-4e7c-b309-ed49b65d2b15",
   "metadata": {},
   "outputs": [
    {
     "name": "stdout",
     "output_type": "stream",
     "text": [
      "32\n"
     ]
    }
   ],
   "source": [
    "print(system.getNumParticles()) "
   ]
  },
  {
   "cell_type": "code",
   "execution_count": 101,
   "id": "5d581a8f-963c-4a35-97d8-239ddc9c1255",
   "metadata": {
    "scrolled": true
   },
   "outputs": [
    {
     "name": "stdout",
     "output_type": "stream",
     "text": [
      "Minimizing energy...\n",
      "0 78.79150316939224\n",
      "10 11.717276388105994\n",
      "20 -9.602127315456332\n",
      "30 -16.743742205913822\n",
      "40 -19.866019923211837\n",
      "50 -21.09889320359357\n",
      "60 -21.919793728676773\n",
      "70 -22.294663210538513\n",
      "80 -22.439093987931766\n",
      "90 -22.48495064006383\n",
      "100 -22.527762508228207\n",
      "110 -22.54660746590117\n",
      "120 -22.5576601992208\n",
      "130 -22.56589016151189\n",
      "140 -22.572805840813867\n",
      "150 -22.578274713905124\n",
      "160 -22.58092039988105\n",
      "170 -22.581437657363995\n",
      "180 -22.581944730330687\n",
      "190 -22.582439165468127\n",
      "200 -22.582647633780226\n",
      "210 -22.582793815443072\n",
      "220 -22.582910741032265\n",
      "230 -22.583004780801726\n",
      "240 -22.583100830551906\n",
      "250 -22.583140004155243\n",
      "260 -22.58316214755201\n",
      "270 -22.58317420323098\n",
      "280 -22.583176817489587\n",
      "290 -22.58317834548702\n",
      "300 -22.583178979229096\n",
      "310 -22.583179388467368\n",
      "320 -22.583179665720493\n",
      "330 -22.58317994655671\n",
      "340 -22.58318010343469\n",
      "350 -22.583180242657807\n",
      "360 -22.583180280550447\n",
      "370 -22.583180326533363\n",
      "380 -22.583180359026812\n"
     ]
    }
   ],
   "source": [
    "integrator = openmm.LangevinIntegrator(\n",
    "    300.0 * unit.kelvin, 1.0 / unit.picosecond, 2.0 * unit.femtosecond\n",
    ")\n",
    "platform = openmm.Platform.getPlatformByName(\"Reference\")\n",
    "context = openmm.Context(system, integrator, platform)\n",
    "\n",
    "initial_positions = mol.conformers[0].to_openmm()\n",
    "context.setPositions(initial_positions)\n",
    "\n",
    "# Create an instance of our reporter\n",
    "reporter = Reporter()\n",
    "\n",
    "# Perform local energy minimization\n",
    "print(\"Minimizing energy...\")\n",
    "openmm.LocalEnergyMinimizer.minimize(\n",
    "    context, tolerance=1e-2, maxIterations=1500, reporter=reporter\n",
    ")"
   ]
  },
  {
   "cell_type": "code",
   "execution_count": 102,
   "id": "63a8434a-1b8c-43a5-a021-f4eb43877d95",
   "metadata": {},
   "outputs": [
    {
     "data": {
      "image/png": "[encoded data removed]",
      "text/plain": [
       "<Figure size 640x480 with 1 Axes>"
      ]
     },
     "metadata": {},
     "output_type": "display_data"
    }
   ],
   "source": [
    "plt.plot(reporter.energies)\n",
    "plt.xlabel(\"Iteration\")\n",
    "plt.ylabel(\"Energy (kJ/mol)\")\n",
    "plt.title(\"Energy Minimization Progress\")\n",
    "plt.show()"
   ]
  },
  {
   "cell_type": "code",
   "execution_count": 82,
   "id": "17803ee8-1c34-4afc-ba96-7c4aa90e8152",
   "metadata": {},
   "outputs": [],
   "source": [
    "xml_file_name = \"harmonic_benchmark_system.xml\"\n",
    "with open(xml_file_name, \"w\") as xml_file:\n",
    "    xml_file.write(openmm.XmlSerializer.serialize(system))"
   ]
  },
  {
   "cell_type": "code",
   "execution_count": null,
   "id": "746420db-863f-43c2-b91f-0cfbe09e5f44",
   "metadata": {},
   "outputs": [],
   "source": []
  }
 ],
 "metadata": {
  "kernelspec": {
   "display_name": "Python 3 (ipykernel)",
   "language": "python",
   "name": "python3"
  },
  "language_info": {
   "codemirror_mode": {
    "name": "ipython",
    "version": 3
   },
   "file_extension": ".py",
   "mimetype": "text/x-python",
   "name": "python",
   "nbconvert_exporter": "python",
   "pygments_lexer": "ipython3",
   "version": "3.12.7"
  }
 },
 "nbformat": 4,
 "nbformat_minor": 5
}
