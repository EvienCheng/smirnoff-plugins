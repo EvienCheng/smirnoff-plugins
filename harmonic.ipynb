{
 "cells": [
  {
   "cell_type": "code",
   "execution_count": 1,
   "id": "39b6c899-4881-448a-9b05-64db4bfb5682",
   "metadata": {},
   "outputs": [],
   "source": [
    "import math\n",
    "import numpy\n",
    "import openmm.unit\n",
    "from openff.toolkit.topology import Molecule, Topology\n",
    "from openff.toolkit.typing.engines.smirnoff import ForceField, ParameterList\n",
    "from openff.units import Quantity, unit\n",
    "from smirnoff_plugins.utilities.openmm import simulate\n"
   ]
  },
  {
   "cell_type": "code",
   "execution_count": 2,
   "id": "7553135a-78cc-4943-8909-1f4e02df8ae2",
   "metadata": {},
   "outputs": [],
   "source": [
    "def build_force_field() -> ForceField:    \n",
    "    force_field = ForceField(load_plugins=True)\n",
    "    force_field.register_parameter_handler(HarmonicImproperTorsionHandler)\n",
    "\n",
    "    harmonic_improper_handler = force_field.get_parameter_handler(\n",
    "        \"ImproperTorsionsHarmonic\"\n",
    "    )\n",
    "    \n",
    "    harmonic_improper_handler.add_parameter(\n",
    "        {\n",
    "            \"smirks\": \"[#6:1]=[#6:2]-[#7:3]-[#6:4]\",\n",
    "            \"length_eq\": 1.2 * unit.angstrom,\n",
    "            \"k\": 5.0 * unit.kilocalorie / unit.mole / unit.angstrom**2,\n",
    "        }\n",
    "    )\n",
    "\n",
    "    return force_field\n"
   ]
  },
  {
   "cell_type": "code",
   "execution_count": 5,
   "id": "8a30f522-7469-45ad-896d-3c0e09572f70",
   "metadata": {},
   "outputs": [
    {
     "ename": "NameError",
     "evalue": "name 'HarmonicImproperTorsionHandler' is not defined",
     "output_type": "error",
     "traceback": [
      "\u001b[0;31m---------------------------------------------------------------------------\u001b[0m",
      "\u001b[0;31mNameError\u001b[0m                                 Traceback (most recent call last)",
      "Cell \u001b[0;32mIn[5], line 1\u001b[0m\n\u001b[0;32m----> 1\u001b[0m force_field \u001b[38;5;241m=\u001b[39m \u001b[43mbuild_force_field\u001b[49m\u001b[43m(\u001b[49m\u001b[43m)\u001b[49m\n\u001b[1;32m      2\u001b[0m force_field\u001b[38;5;241m.\u001b[39mto_file(\u001b[38;5;124m\"\u001b[39m\u001b[38;5;124mharmonic-improper-torsions-force-field.offxml\u001b[39m\u001b[38;5;124m\"\u001b[39m)\n\u001b[1;32m      5\u001b[0m \u001b[38;5;66;03m# molecule: Molecule = Molecule.from_smiles(\"C=O\")\u001b[39;00m\n\u001b[1;32m      6\u001b[0m \u001b[38;5;66;03m# molecule.generate_conformers(n_conformers=1)\u001b[39;00m\n\u001b[1;32m      7\u001b[0m \n\u001b[0;32m   (...)\u001b[0m\n\u001b[1;32m     41\u001b[0m \u001b[38;5;66;03m#     output_directory=\"simulation-output\",\u001b[39;00m\n\u001b[1;32m     42\u001b[0m \u001b[38;5;66;03m# )\u001b[39;00m\n",
      "Cell \u001b[0;32mIn[4], line 3\u001b[0m, in \u001b[0;36mbuild_force_field\u001b[0;34m()\u001b[0m\n\u001b[1;32m      1\u001b[0m \u001b[38;5;28;01mdef\u001b[39;00m \u001b[38;5;21mbuild_force_field\u001b[39m() \u001b[38;5;241m-\u001b[39m\u001b[38;5;241m>\u001b[39m ForceField:    \n\u001b[1;32m      2\u001b[0m     force_field \u001b[38;5;241m=\u001b[39m ForceField(load_plugins\u001b[38;5;241m=\u001b[39m\u001b[38;5;28;01mTrue\u001b[39;00m)\n\u001b[0;32m----> 3\u001b[0m     force_field\u001b[38;5;241m.\u001b[39mregister_parameter_handler(\u001b[43mHarmonicImproperTorsionHandler\u001b[49m)\n\u001b[1;32m      5\u001b[0m     harmonic_improper_handler \u001b[38;5;241m=\u001b[39m force_field\u001b[38;5;241m.\u001b[39mget_parameter_handler(\n\u001b[1;32m      6\u001b[0m         \u001b[38;5;124m\"\u001b[39m\u001b[38;5;124mImproperTorsionsHarmonic\u001b[39m\u001b[38;5;124m\"\u001b[39m\n\u001b[1;32m      7\u001b[0m     )\n\u001b[1;32m      9\u001b[0m     harmonic_improper_handler\u001b[38;5;241m.\u001b[39madd_parameter(\n\u001b[1;32m     10\u001b[0m         {\n\u001b[1;32m     11\u001b[0m             \u001b[38;5;124m\"\u001b[39m\u001b[38;5;124msmirks\u001b[39m\u001b[38;5;124m\"\u001b[39m: \u001b[38;5;124m\"\u001b[39m\u001b[38;5;124m[#6:1]=[#6:2]-[#7:3]-[#6:4]\u001b[39m\u001b[38;5;124m\"\u001b[39m,\n\u001b[0;32m   (...)\u001b[0m\n\u001b[1;32m     14\u001b[0m         }\n\u001b[1;32m     15\u001b[0m     )\n",
      "\u001b[0;31mNameError\u001b[0m: name 'HarmonicImproperTorsionHandler' is not defined"
     ]
    }
   ],
   "source": [
    "force_field = build_force_field()\n",
    "force_field.to_file(\"harmonic-improper-torsions-force-field.offxml\")\n",
    "\n",
    "\n",
    "# molecule: Molecule = Molecule.from_smiles(\"C=O\")\n",
    "# molecule.generate_conformers(n_conformers=1)\n",
    "\n",
    "# n_molecules = 100 \n",
    "\n",
    "# topology: Topology = Topology.from_molecules([molecule] * n_molecules)\n",
    "\n",
    "# topology.box_vectors = Quantity(\n",
    "#     numpy.eye(3) * math.ceil(n_molecules ** (1 / 3) + 2) * 2.5,\n",
    "#     unit.angstrom,\n",
    "# )\n",
    "\n",
    "# positions = openmm.unit.Quantity(\n",
    "#     numpy.vstack(\n",
    "#         [\n",
    "#             (\n",
    "#                 molecule.conformers[0].m_as(unit.angstrom)\n",
    "#                 + numpy.array([[x, y, z]]) * 2.5\n",
    "#             )\n",
    "#             for x in range(math.ceil(n_molecules ** (1 / 3)))\n",
    "#             for y in range(math.ceil(n_molecules ** (1 / 3)))\n",
    "#             for z in range(math.ceil(n_molecules ** (1 / 3)))\n",
    "#         ]\n",
    "#     ),\n",
    "#     openmm.unit.angstrom,\n",
    "# )\n",
    "\n",
    "# simulate(\n",
    "#     force_field=force_field,\n",
    "#     topology=topology,\n",
    "#     positions=positions,\n",
    "#     box_vectors=None if n_molecules == 1 else topology.box_vectors.to_openmm(),\n",
    "#     n_steps=2000,\n",
    "#     temperature=300.0,\n",
    "#     pressure=None if n_molecules == 1 else 1.0 * openmm.unit.atmosphere,\n",
    "#     platform=\"Reference\" if n_molecules == 1 else \"OpenCL\",\n",
    "#     output_directory=\"simulation-output\",\n",
    "# )\n",
    "\n"
   ]
  },
  {
   "cell_type": "code",
   "execution_count": null,
   "id": "0247bd4d-7e8c-4d6d-a002-bef541fea25f",
   "metadata": {},
   "outputs": [],
   "source": []
  }
 ],
 "metadata": {
  "kernelspec": {
   "display_name": "Python 3 (ipykernel)",
   "language": "python",
   "name": "python3"
  },
  "language_info": {
   "codemirror_mode": {
    "name": "ipython",
    "version": 3
   },
   "file_extension": ".py",
   "mimetype": "text/x-python",
   "name": "python",
   "nbconvert_exporter": "python",
   "pygments_lexer": "ipython3",
   "version": "3.12.7"
  }
 },
 "nbformat": 4,
 "nbformat_minor": 5
}
