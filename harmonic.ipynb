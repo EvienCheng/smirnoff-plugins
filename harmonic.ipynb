{
 "cells": [
  {
   "cell_type": "code",
   "execution_count": 1,
   "id": "39b6c899-4881-448a-9b05-64db4bfb5682",
   "metadata": {},
   "outputs": [],
   "source": [
    "import math\n",
    "import numpy\n",
    "import openmm.unit\n",
    "from openff.toolkit.topology import Molecule, Topology\n",
    "from openff.toolkit.typing.engines.smirnoff import ForceField, ParameterList\n",
    "from openff.units import Quantity, unit\n",
    "from smirnoff_plugins.utilities.openmm import simulate\n",
    "from smirnoff_plugins.handlers.bonded import HarmonicImproperTorsionHandler"
   ]
  },
  {
   "cell_type": "code",
   "execution_count": 2,
   "id": "7553135a-78cc-4943-8909-1f4e02df8ae2",
   "metadata": {},
   "outputs": [],
   "source": [
    "def build_force_field() -> ForceField:    \n",
    "    force_field = ForceField(load_plugins=True)\n",
    "    force_field.register_parameter_handler(HarmonicImproperTorsionHandler(skip_version_check=True))\n",
    "\n",
    "    harmonic_improper_handler = force_field.get_parameter_handler(\n",
    "        \"ImproperTorsionsHarmonic\",\n",
    "    )\n",
    "\n",
    "    harmonic_improper_handler.add_parameter(\n",
    "        {\n",
    "            \"smirks\": \"[#6:1]=[#6:2]-[#7:3]-[#6:4]\",\n",
    "            \"length_eq\": 1.2 * unit.angstrom,\n",
    "            \"k\": 5.0 * unit.kilocalorie / unit.mole / unit.angstrom**2,\n",
    "        }\n",
    "    )\n",
    "\n",
    "    return force_field\n"
   ]
  },
  {
   "cell_type": "code",
   "execution_count": 3,
   "id": "8a30f522-7469-45ad-896d-3c0e09572f70",
   "metadata": {},
   "outputs": [],
   "source": [
    "force_field = build_force_field()\n",
    "force_field.to_file(\"harmonic-improper-torsions-force-field.offxml\")\n",
    "\n",
    "\n",
    "# molecule: Molecule = Molecule.from_smiles(\"C=O\")\n",
    "# molecule.generate_conformers(n_conformers=1)\n",
    "\n",
    "# n_molecules = 100 \n",
    "\n",
    "# topology: Topology = Topology.from_molecules([molecule] * n_molecules)\n",
    "\n",
    "# topology.box_vectors = Quantity(\n",
    "#     numpy.eye(3) * math.ceil(n_molecules ** (1 / 3) + 2) * 2.5,\n",
    "#     unit.angstrom,\n",
    "# )\n",
    "\n",
    "# positions = openmm.unit.Quantity(\n",
    "#     numpy.vstack(\n",
    "#         [\n",
    "#             (\n",
    "#                 molecule.conformers[0].m_as(unit.angstrom)\n",
    "#                 + numpy.array([[x, y, z]]) * 2.5\n",
    "#             )\n",
    "#             for x in range(math.ceil(n_molecules ** (1 / 3)))\n",
    "#             for y in range(math.ceil(n_molecules ** (1 / 3)))\n",
    "#             for z in range(math.ceil(n_molecules ** (1 / 3)))\n",
    "#         ]\n",
    "#     ),\n",
    "#     openmm.unit.angstrom,\n",
    "# )\n",
    "\n",
    "# simulate(\n",
    "#     force_field=force_field,\n",
    "#     topology=topology,\n",
    "#     positions=positions,\n",
    "#     box_vectors=None if n_molecules == 1 else topology.box_vectors.to_openmm(),\n",
    "#     n_steps=2000,\n",
    "#     temperature=300.0,\n",
    "#     pressure=None if n_molecules == 1 else 1.0 * openmm.unit.atmosphere,\n",
    "#     platform=\"Reference\" if n_molecules == 1 else \"OpenCL\",\n",
    "#     output_directory=\"simulation-output\",\n",
    "# )\n",
    "\n"
   ]
  },
  {
   "cell_type": "code",
   "execution_count": null,
   "id": "0247bd4d-7e8c-4d6d-a002-bef541fea25f",
   "metadata": {},
   "outputs": [],
   "source": []
  }
 ],
 "metadata": {
  "kernelspec": {
   "display_name": "Python 3 (ipykernel)",
   "language": "python",
   "name": "python3"
  },
  "language_info": {
   "codemirror_mode": {
    "name": "ipython",
    "version": 3
   },
   "file_extension": ".py",
   "mimetype": "text/x-python",
   "name": "python",
   "nbconvert_exporter": "python",
   "pygments_lexer": "ipython3",
   "version": "3.12.7"
  }
 },
 "nbformat": 4,
 "nbformat_minor": 5
}
