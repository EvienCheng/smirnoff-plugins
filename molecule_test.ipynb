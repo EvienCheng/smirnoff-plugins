{
 "cells": [
  {
   "cell_type": "code",
   "execution_count": 1,
   "id": "e812fd24-a93e-4c07-b32b-367b252bfcd6",
   "metadata": {},
   "outputs": [],
   "source": [
    "from openff.toolkit import ForceField, Molecule\n",
    "from openmm import openmm\n",
    "from openmm import unit\n",
    "import matplotlib.pyplot as plt\n",
    "from rdkit import Chem\n",
    "from rdkit.Chem import Draw\n",
    "import numpy as np"
   ]
  },
  {
   "cell_type": "code",
   "execution_count": 2,
   "id": "7720f256-6acf-4656-8517-e3d3e82eb317",
   "metadata": {},
   "outputs": [],
   "source": [
    "class Reporter(openmm.MinimizationReporter):\n",
    "    interval = 10 # report interval\n",
    "    energies = [] # array to record progress\n",
    "    def report(self, iteration, x, grad, args):\n",
    "        # print current system energy to screen \n",
    "        if iteration % self.interval == 0:\n",
    "            print(iteration, args['system energy'])\n",
    "\n",
    "        # save energy at each iteration to an array we can use later\n",
    "        self.energies.append(args['system energy'])\n",
    "\n",
    "        # The report method must return a bool specifying if minimization should be stopped. \n",
    "        return False"
   ]
  },
  {
   "cell_type": "code",
   "execution_count": 3,
   "id": "de06104f-ce21-46c5-b506-a05b2f0e1544",
   "metadata": {
    "scrolled": true
   },
   "outputs": [],
   "source": [
    "mol = Molecule.from_smiles('CCCC(O)CC(N)CCC', allow_undefined_stereo=True)\n",
    "mol.generate_conformers()\n",
    "# mol.assign_partial_charges(partial_charge_method='am1bccelf10')"
   ]
  },
  {
   "cell_type": "code",
   "execution_count": 4,
   "id": "5b6fc82f-0287-492c-b81a-73a2deb77780",
   "metadata": {},
   "outputs": [
    {
     "name": "stdout",
     "output_type": "stream",
     "text": [
      "Number of atoms in molecule: 32\n",
      "Number of conformers: 1\n"
     ]
    }
   ],
   "source": [
    "print(f\"Number of atoms in molecule: {mol.n_atoms}\")\n",
    "print(f\"Number of conformers: {len(mol.conformers)}\")\n"
   ]
  },
  {
   "cell_type": "code",
   "execution_count": 5,
   "id": "536aca60-9581-45d4-b6be-5809a4cbeb13",
   "metadata": {},
   "outputs": [],
   "source": [
    "forcefield = ForceField('lee-krimm-force-field.offxml', load_plugins = True, allow_cosmetic_attributes = True)\n",
    "# forcefield = ForceField('openff-2.2.0.offxml')"
   ]
  },
  {
   "cell_type": "code",
   "execution_count": 6,
   "id": "137233c9-cd98-45f7-89d2-cd809c076b22",
   "metadata": {},
   "outputs": [
    {
     "ename": "ValidationError",
     "evalue": "1 validation error for Potential\nparameters -> s\n  Value 1.0 needs to be tagged with a unit (type=value_error.missingunit)",
     "output_type": "error",
     "traceback": [
      "\u001b[0;31m---------------------------------------------------------------------------\u001b[0m",
      "\u001b[0;31mValidationError\u001b[0m                           Traceback (most recent call last)",
      "Cell \u001b[0;32mIn[6], line 1\u001b[0m\n\u001b[0;32m----> 1\u001b[0m system \u001b[38;5;241m=\u001b[39m \u001b[43mforcefield\u001b[49m\u001b[38;5;241;43m.\u001b[39;49m\u001b[43mcreate_openmm_system\u001b[49m\u001b[43m(\u001b[49m\u001b[43mmol\u001b[49m\u001b[38;5;241;43m.\u001b[39;49m\u001b[43mto_topology\u001b[49m\u001b[43m(\u001b[49m\u001b[43m)\u001b[49m\u001b[43m)\u001b[49m\n\u001b[1;32m      2\u001b[0m \u001b[38;5;66;03m# use interchange for system creation\u001b[39;00m\n",
      "File \u001b[0;32m~/miniconda3/envs/smirnoff-plugins/lib/python3.12/site-packages/openff/utilities/utilities.py:80\u001b[0m, in \u001b[0;36mrequires_package.<locals>.inner_decorator.<locals>.wrapper\u001b[0;34m(*args, **kwargs)\u001b[0m\n\u001b[1;32m     77\u001b[0m \u001b[38;5;28;01mexcept\u001b[39;00m \u001b[38;5;167;01mException\u001b[39;00m \u001b[38;5;28;01mas\u001b[39;00m e:\n\u001b[1;32m     78\u001b[0m     \u001b[38;5;28;01mraise\u001b[39;00m e\n\u001b[0;32m---> 80\u001b[0m \u001b[38;5;28;01mreturn\u001b[39;00m \u001b[43mfunction\u001b[49m\u001b[43m(\u001b[49m\u001b[38;5;241;43m*\u001b[39;49m\u001b[43margs\u001b[49m\u001b[43m,\u001b[49m\u001b[43m \u001b[49m\u001b[38;5;241;43m*\u001b[39;49m\u001b[38;5;241;43m*\u001b[39;49m\u001b[43mkwargs\u001b[49m\u001b[43m)\u001b[49m\n",
      "File \u001b[0;32m~/miniconda3/envs/smirnoff-plugins/lib/python3.12/site-packages/openff/toolkit/typing/engines/smirnoff/forcefield.py:1179\u001b[0m, in \u001b[0;36mForceField.create_openmm_system\u001b[0;34m(self, topology, toolkit_registry, charge_from_molecules, partial_bond_orders_from_molecules, allow_nonintegral_charges)\u001b[0m\n\u001b[1;32m   1141\u001b[0m \u001b[38;5;129m@requires_package\u001b[39m(\u001b[38;5;124m\"\u001b[39m\u001b[38;5;124mopenmm\u001b[39m\u001b[38;5;124m\"\u001b[39m)\n\u001b[1;32m   1142\u001b[0m \u001b[38;5;28;01mdef\u001b[39;00m \u001b[38;5;21mcreate_openmm_system\u001b[39m(\n\u001b[1;32m   1143\u001b[0m     \u001b[38;5;28mself\u001b[39m,\n\u001b[0;32m   (...)\u001b[0m\n\u001b[1;32m   1149\u001b[0m     allow_nonintegral_charges: \u001b[38;5;28mbool\u001b[39m \u001b[38;5;241m=\u001b[39m \u001b[38;5;28;01mFalse\u001b[39;00m,\n\u001b[1;32m   1150\u001b[0m ) \u001b[38;5;241m-\u001b[39m\u001b[38;5;241m>\u001b[39m \u001b[38;5;124m\"\u001b[39m\u001b[38;5;124mopenmm.System\u001b[39m\u001b[38;5;124m\"\u001b[39m:\n\u001b[1;32m   1151\u001b[0m \u001b[38;5;250m    \u001b[39m\u001b[38;5;124;03m\"\"\"Create an OpenMM System from this ForceField and a Topology.\u001b[39;00m\n\u001b[1;32m   1152\u001b[0m \n\u001b[1;32m   1153\u001b[0m \u001b[38;5;124;03m    Note that most force fields specify their own partial charges, and any\u001b[39;00m\n\u001b[0;32m   (...)\u001b[0m\n\u001b[1;32m   1177\u001b[0m \u001b[38;5;124;03m        Allow charges that do not sum to an integer.\u001b[39;00m\n\u001b[1;32m   1178\u001b[0m \u001b[38;5;124;03m    \"\"\"\u001b[39;00m\n\u001b[0;32m-> 1179\u001b[0m     \u001b[38;5;28;01mreturn\u001b[39;00m \u001b[38;5;28;43mself\u001b[39;49m\u001b[38;5;241;43m.\u001b[39;49m\u001b[43mcreate_interchange\u001b[49m\u001b[43m(\u001b[49m\n\u001b[1;32m   1180\u001b[0m \u001b[43m        \u001b[49m\u001b[43mtopology\u001b[49m\u001b[43m,\u001b[49m\n\u001b[1;32m   1181\u001b[0m \u001b[43m        \u001b[49m\u001b[43mtoolkit_registry\u001b[49m\u001b[43m,\u001b[49m\n\u001b[1;32m   1182\u001b[0m \u001b[43m        \u001b[49m\u001b[43mcharge_from_molecules\u001b[49m\u001b[38;5;241;43m=\u001b[39;49m\u001b[43mcharge_from_molecules\u001b[49m\u001b[43m,\u001b[49m\n\u001b[1;32m   1183\u001b[0m \u001b[43m        \u001b[49m\u001b[43mpartial_bond_orders_from_molecules\u001b[49m\u001b[38;5;241;43m=\u001b[39;49m\u001b[43mpartial_bond_orders_from_molecules\u001b[49m\u001b[43m,\u001b[49m\n\u001b[1;32m   1184\u001b[0m \u001b[43m        \u001b[49m\u001b[43mallow_nonintegral_charges\u001b[49m\u001b[38;5;241;43m=\u001b[39;49m\u001b[43mallow_nonintegral_charges\u001b[49m\u001b[43m,\u001b[49m\n\u001b[1;32m   1185\u001b[0m \u001b[43m    \u001b[49m\u001b[43m)\u001b[49m\u001b[38;5;241m.\u001b[39mto_openmm(combine_nonbonded_forces\u001b[38;5;241m=\u001b[39m\u001b[38;5;28;01mTrue\u001b[39;00m)\n",
      "File \u001b[0;32m~/miniconda3/envs/smirnoff-plugins/lib/python3.12/site-packages/openff/utilities/utilities.py:80\u001b[0m, in \u001b[0;36mrequires_package.<locals>.inner_decorator.<locals>.wrapper\u001b[0;34m(*args, **kwargs)\u001b[0m\n\u001b[1;32m     77\u001b[0m \u001b[38;5;28;01mexcept\u001b[39;00m \u001b[38;5;167;01mException\u001b[39;00m \u001b[38;5;28;01mas\u001b[39;00m e:\n\u001b[1;32m     78\u001b[0m     \u001b[38;5;28;01mraise\u001b[39;00m e\n\u001b[0;32m---> 80\u001b[0m \u001b[38;5;28;01mreturn\u001b[39;00m \u001b[43mfunction\u001b[49m\u001b[43m(\u001b[49m\u001b[38;5;241;43m*\u001b[39;49m\u001b[43margs\u001b[49m\u001b[43m,\u001b[49m\u001b[43m \u001b[49m\u001b[38;5;241;43m*\u001b[39;49m\u001b[38;5;241;43m*\u001b[39;49m\u001b[43mkwargs\u001b[49m\u001b[43m)\u001b[49m\n",
      "File \u001b[0;32m~/miniconda3/envs/smirnoff-plugins/lib/python3.12/site-packages/openff/toolkit/typing/engines/smirnoff/forcefield.py:1238\u001b[0m, in \u001b[0;36mForceField.create_interchange\u001b[0;34m(self, topology, toolkit_registry, charge_from_molecules, partial_bond_orders_from_molecules, allow_nonintegral_charges)\u001b[0m\n\u001b[1;32m   1235\u001b[0m     used_registry \u001b[38;5;241m=\u001b[39m GLOBAL_TOOLKIT_REGISTRY\n\u001b[1;32m   1237\u001b[0m \u001b[38;5;28;01mwith\u001b[39;00m toolkit_registry_manager(used_registry):\n\u001b[0;32m-> 1238\u001b[0m     \u001b[38;5;28;01mreturn\u001b[39;00m \u001b[43mInterchange\u001b[49m\u001b[38;5;241;43m.\u001b[39;49m\u001b[43mfrom_smirnoff\u001b[49m\u001b[43m(\u001b[49m\n\u001b[1;32m   1239\u001b[0m \u001b[43m        \u001b[49m\u001b[43mforce_field\u001b[49m\u001b[38;5;241;43m=\u001b[39;49m\u001b[38;5;28;43mself\u001b[39;49m\u001b[43m,\u001b[49m\n\u001b[1;32m   1240\u001b[0m \u001b[43m        \u001b[49m\u001b[43mtopology\u001b[49m\u001b[38;5;241;43m=\u001b[39;49m\u001b[43mtopology\u001b[49m\u001b[43m,\u001b[49m\n\u001b[1;32m   1241\u001b[0m \u001b[43m        \u001b[49m\u001b[43mcharge_from_molecules\u001b[49m\u001b[38;5;241;43m=\u001b[39;49m\u001b[43mcharge_from_molecules\u001b[49m\u001b[43m,\u001b[49m\n\u001b[1;32m   1242\u001b[0m \u001b[43m        \u001b[49m\u001b[43mpartial_bond_orders_from_molecules\u001b[49m\u001b[38;5;241;43m=\u001b[39;49m\u001b[43mpartial_bond_orders_from_molecules\u001b[49m\u001b[43m,\u001b[49m\n\u001b[1;32m   1243\u001b[0m \u001b[43m        \u001b[49m\u001b[43mallow_nonintegral_charges\u001b[49m\u001b[38;5;241;43m=\u001b[39;49m\u001b[43mallow_nonintegral_charges\u001b[49m\u001b[43m,\u001b[49m\n\u001b[1;32m   1244\u001b[0m \u001b[43m    \u001b[49m\u001b[43m)\u001b[49m\n",
      "File \u001b[0;32m~/miniconda3/envs/smirnoff-plugins/lib/python3.12/site-packages/openff/interchange/components/interchange.py:268\u001b[0m, in \u001b[0;36mInterchange.from_smirnoff\u001b[0;34m(cls, force_field, topology, box, positions, charge_from_molecules, partial_bond_orders_from_molecules, allow_nonintegral_charges)\u001b[0m\n\u001b[1;32m    219\u001b[0m \u001b[38;5;250m\u001b[39m\u001b[38;5;124;03m\"\"\"\u001b[39;00m\n\u001b[1;32m    220\u001b[0m \u001b[38;5;124;03mCreate a new object by parameterizing a topology with a SMIRNOFF force field.\u001b[39;00m\n\u001b[1;32m    221\u001b[0m \n\u001b[0;32m   (...)\u001b[0m\n\u001b[1;32m    264\u001b[0m \n\u001b[1;32m    265\u001b[0m \u001b[38;5;124;03m\"\"\"\u001b[39;00m\n\u001b[1;32m    266\u001b[0m \u001b[38;5;28;01mfrom\u001b[39;00m \u001b[38;5;21;01mopenff\u001b[39;00m\u001b[38;5;21;01m.\u001b[39;00m\u001b[38;5;21;01minterchange\u001b[39;00m\u001b[38;5;21;01m.\u001b[39;00m\u001b[38;5;21;01msmirnoff\u001b[39;00m\u001b[38;5;21;01m.\u001b[39;00m\u001b[38;5;21;01m_create\u001b[39;00m \u001b[38;5;28;01mimport\u001b[39;00m _create_interchange\n\u001b[0;32m--> 268\u001b[0m \u001b[38;5;28;01mreturn\u001b[39;00m \u001b[43m_create_interchange\u001b[49m\u001b[43m(\u001b[49m\n\u001b[1;32m    269\u001b[0m \u001b[43m    \u001b[49m\u001b[43mforce_field\u001b[49m\u001b[38;5;241;43m=\u001b[39;49m\u001b[43mforce_field\u001b[49m\u001b[43m,\u001b[49m\n\u001b[1;32m    270\u001b[0m \u001b[43m    \u001b[49m\u001b[43mtopology\u001b[49m\u001b[38;5;241;43m=\u001b[39;49m\u001b[43mtopology\u001b[49m\u001b[43m,\u001b[49m\n\u001b[1;32m    271\u001b[0m \u001b[43m    \u001b[49m\u001b[43mbox\u001b[49m\u001b[38;5;241;43m=\u001b[39;49m\u001b[43mbox\u001b[49m\u001b[43m,\u001b[49m\n\u001b[1;32m    272\u001b[0m \u001b[43m    \u001b[49m\u001b[43mpositions\u001b[49m\u001b[38;5;241;43m=\u001b[39;49m\u001b[43mpositions\u001b[49m\u001b[43m,\u001b[49m\n\u001b[1;32m    273\u001b[0m \u001b[43m    \u001b[49m\u001b[43mcharge_from_molecules\u001b[49m\u001b[38;5;241;43m=\u001b[39;49m\u001b[43mcharge_from_molecules\u001b[49m\u001b[43m,\u001b[49m\n\u001b[1;32m    274\u001b[0m \u001b[43m    \u001b[49m\u001b[43mpartial_bond_orders_from_molecules\u001b[49m\u001b[38;5;241;43m=\u001b[39;49m\u001b[43mpartial_bond_orders_from_molecules\u001b[49m\u001b[43m,\u001b[49m\n\u001b[1;32m    275\u001b[0m \u001b[43m    \u001b[49m\u001b[43mallow_nonintegral_charges\u001b[49m\u001b[38;5;241;43m=\u001b[39;49m\u001b[43mallow_nonintegral_charges\u001b[49m\u001b[43m,\u001b[49m\n\u001b[1;32m    276\u001b[0m \u001b[43m\u001b[49m\u001b[43m)\u001b[49m\n",
      "File \u001b[0;32m~/miniconda3/envs/smirnoff-plugins/lib/python3.12/site-packages/openff/interchange/smirnoff/_create.py:119\u001b[0m, in \u001b[0;36m_create_interchange\u001b[0;34m(force_field, topology, box, positions, charge_from_molecules, partial_bond_orders_from_molecules, allow_nonintegral_charges)\u001b[0m\n\u001b[1;32m    111\u001b[0m _vdw(interchange, force_field, _topology)\n\u001b[1;32m    112\u001b[0m _electrostatics(\n\u001b[1;32m    113\u001b[0m     interchange,\n\u001b[1;32m    114\u001b[0m     force_field,\n\u001b[0;32m   (...)\u001b[0m\n\u001b[1;32m    117\u001b[0m     allow_nonintegral_charges,\n\u001b[1;32m    118\u001b[0m )\n\u001b[0;32m--> 119\u001b[0m \u001b[43m_plugins\u001b[49m\u001b[43m(\u001b[49m\u001b[43minterchange\u001b[49m\u001b[43m,\u001b[49m\u001b[43m \u001b[49m\u001b[43mforce_field\u001b[49m\u001b[43m,\u001b[49m\u001b[43m \u001b[49m\u001b[43m_topology\u001b[49m\u001b[43m)\u001b[49m\n\u001b[1;32m    121\u001b[0m _virtual_sites(interchange, force_field, _topology)\n\u001b[1;32m    123\u001b[0m _gbsa(interchange, force_field, _topology)\n",
      "File \u001b[0;32m~/miniconda3/envs/smirnoff-plugins/lib/python3.12/site-packages/openff/interchange/smirnoff/_create.py:375\u001b[0m, in \u001b[0;36m_plugins\u001b[0;34m(interchange, force_field, topology)\u001b[0m\n\u001b[1;32m    373\u001b[0m handler_class \u001b[38;5;241m=\u001b[39m handler_classes[\u001b[38;5;241m0\u001b[39m]\n\u001b[1;32m    374\u001b[0m \u001b[38;5;28;01mtry\u001b[39;00m:\n\u001b[0;32m--> 375\u001b[0m     collection \u001b[38;5;241m=\u001b[39m \u001b[43mcollection_class\u001b[49m\u001b[38;5;241;43m.\u001b[39;49m\u001b[43mcreate\u001b[49m\u001b[43m(\u001b[49m\n\u001b[1;32m    376\u001b[0m \u001b[43m        \u001b[49m\u001b[43mparameter_handler\u001b[49m\u001b[38;5;241;43m=\u001b[39;49m\u001b[43mforce_field\u001b[49m\u001b[43m[\u001b[49m\u001b[43mhandler_class\u001b[49m\u001b[38;5;241;43m.\u001b[39;49m\u001b[43m_TAGNAME\u001b[49m\u001b[43m]\u001b[49m\u001b[43m,\u001b[49m\n\u001b[1;32m    377\u001b[0m \u001b[43m        \u001b[49m\u001b[43mtopology\u001b[49m\u001b[38;5;241;43m=\u001b[39;49m\u001b[43mtopology\u001b[49m\u001b[43m,\u001b[49m\n\u001b[1;32m    378\u001b[0m \u001b[43m    \u001b[49m\u001b[43m)\u001b[49m\n\u001b[1;32m    379\u001b[0m \u001b[38;5;28;01mexcept\u001b[39;00m \u001b[38;5;167;01mTypeError\u001b[39;00m:\n\u001b[1;32m    380\u001b[0m     tagnames \u001b[38;5;241m=\u001b[39m [x\u001b[38;5;241m.\u001b[39m_TAGNAME \u001b[38;5;28;01mfor\u001b[39;00m x \u001b[38;5;129;01min\u001b[39;00m collection\u001b[38;5;241m.\u001b[39mallowed_parameter_handlers()]\n",
      "File \u001b[0;32m~/miniconda3/envs/smirnoff-plugins/lib/python3.12/site-packages/openff/interchange/smirnoff/_base.py:315\u001b[0m, in \u001b[0;36mSMIRNOFFCollection.create\u001b[0;34m(cls, parameter_handler, topology)\u001b[0m\n\u001b[1;32m    311\u001b[0m         collection\u001b[38;5;241m.\u001b[39mfractional_bond_order_interpolation \u001b[38;5;241m=\u001b[39m (  \u001b[38;5;66;03m# type: ignore[attr-defined]\u001b[39;00m\n\u001b[1;32m    312\u001b[0m             parameter_handler\u001b[38;5;241m.\u001b[39mfractional_bondorder_interpolation\n\u001b[1;32m    313\u001b[0m         )\n\u001b[1;32m    314\u001b[0m collection\u001b[38;5;241m.\u001b[39mstore_matches(parameter_handler\u001b[38;5;241m=\u001b[39mparameter_handler, topology\u001b[38;5;241m=\u001b[39mtopology)\n\u001b[0;32m--> 315\u001b[0m \u001b[43mcollection\u001b[49m\u001b[38;5;241;43m.\u001b[39;49m\u001b[43mstore_potentials\u001b[49m\u001b[43m(\u001b[49m\u001b[43mparameter_handler\u001b[49m\u001b[38;5;241;43m=\u001b[39;49m\u001b[43mparameter_handler\u001b[49m\u001b[43m)\u001b[49m\n\u001b[1;32m    317\u001b[0m \u001b[38;5;28;01mreturn\u001b[39;00m collection\n",
      "File \u001b[0;32m/mnt/c/Data/User/Evien/UCI/Research/Mobley_Lab/Linux/smirnoff/smirnoff-plugins/smirnoff_plugins/collections/bonded.py:199\u001b[0m, in \u001b[0;36mLeeKrimmCollection.store_potentials\u001b[0;34m(self, parameter_handler)\u001b[0m\n\u001b[1;32m    196\u001b[0m smirks \u001b[38;5;241m=\u001b[39m potential_key\u001b[38;5;241m.\u001b[39mid\n\u001b[1;32m    197\u001b[0m parameter \u001b[38;5;241m=\u001b[39m parameter_handler\u001b[38;5;241m.\u001b[39mparameters[smirks]\n\u001b[0;32m--> 199\u001b[0m \u001b[38;5;28mself\u001b[39m\u001b[38;5;241m.\u001b[39mpotentials[potential_key] \u001b[38;5;241m=\u001b[39m \u001b[43mPotential\u001b[49m\u001b[43m(\u001b[49m\n\u001b[1;32m    200\u001b[0m \u001b[43m    \u001b[49m\u001b[43mparameters\u001b[49m\u001b[38;5;241;43m=\u001b[39;49m\u001b[43m{\u001b[49m\n\u001b[1;32m    201\u001b[0m \u001b[43m        \u001b[49m\u001b[38;5;124;43m\"\u001b[39;49m\u001b[38;5;124;43mV2\u001b[39;49m\u001b[38;5;124;43m\"\u001b[39;49m\u001b[43m:\u001b[49m\u001b[43m \u001b[49m\u001b[43mparameter\u001b[49m\u001b[38;5;241;43m.\u001b[39;49m\u001b[43mV2\u001b[49m\u001b[43m,\u001b[49m\u001b[43m \u001b[49m\u001b[38;5;124;43m\"\u001b[39;49m\u001b[38;5;124;43mV4\u001b[39;49m\u001b[38;5;124;43m\"\u001b[39;49m\u001b[43m:\u001b[49m\u001b[43m \u001b[49m\u001b[43mparameter\u001b[49m\u001b[38;5;241;43m.\u001b[39;49m\u001b[43mV4\u001b[49m\u001b[43m,\u001b[49m\n\u001b[1;32m    202\u001b[0m \u001b[43m        \u001b[49m\u001b[38;5;124;43m\"\u001b[39;49m\u001b[38;5;124;43mt\u001b[39;49m\u001b[38;5;124;43m\"\u001b[39;49m\u001b[43m:\u001b[49m\u001b[43m \u001b[49m\u001b[43mparameter\u001b[49m\u001b[38;5;241;43m.\u001b[39;49m\u001b[43mt\u001b[49m\u001b[43m,\u001b[49m\u001b[43m \u001b[49m\u001b[38;5;124;43m\"\u001b[39;49m\u001b[38;5;124;43ms\u001b[39;49m\u001b[38;5;124;43m\"\u001b[39;49m\u001b[43m:\u001b[49m\u001b[43m \u001b[49m\u001b[43mparameter\u001b[49m\u001b[38;5;241;43m.\u001b[39;49m\u001b[43ms\u001b[49m\u001b[43m,\u001b[49m\n\u001b[1;32m    203\u001b[0m \u001b[43m    \u001b[49m\u001b[43m}\u001b[49m\u001b[43m,\u001b[49m\n\u001b[1;32m    204\u001b[0m \u001b[43m\u001b[49m\u001b[43m)\u001b[49m\n",
      "File \u001b[0;32m~/miniconda3/envs/smirnoff-plugins/lib/python3.12/site-packages/pydantic/v1/main.py:341\u001b[0m, in \u001b[0;36mBaseModel.__init__\u001b[0;34m(__pydantic_self__, **data)\u001b[0m\n\u001b[1;32m    339\u001b[0m values, fields_set, validation_error \u001b[38;5;241m=\u001b[39m validate_model(__pydantic_self__\u001b[38;5;241m.\u001b[39m\u001b[38;5;18m__class__\u001b[39m, data)\n\u001b[1;32m    340\u001b[0m \u001b[38;5;28;01mif\u001b[39;00m validation_error:\n\u001b[0;32m--> 341\u001b[0m     \u001b[38;5;28;01mraise\u001b[39;00m validation_error\n\u001b[1;32m    342\u001b[0m \u001b[38;5;28;01mtry\u001b[39;00m:\n\u001b[1;32m    343\u001b[0m     object_setattr(__pydantic_self__, \u001b[38;5;124m'\u001b[39m\u001b[38;5;124m__dict__\u001b[39m\u001b[38;5;124m'\u001b[39m, values)\n",
      "\u001b[0;31mValidationError\u001b[0m: 1 validation error for Potential\nparameters -> s\n  Value 1.0 needs to be tagged with a unit (type=value_error.missingunit)"
     ]
    }
   ],
   "source": [
    "system = forcefield.create_openmm_system(mol.to_topology())\n",
    "# use interchange for system creation"
   ]
  },
  {
   "cell_type": "code",
   "execution_count": null,
   "id": "e88f3ac2-ad93-4903-80e5-c4f36ef63cdd",
   "metadata": {},
   "outputs": [],
   "source": [
    "for i in range(system.getNumForces()):\n",
    "    force = system.getForce(i)\n",
    "    print(f\"Force {i}: {type(force)}\")\n"
   ]
  },
  {
   "cell_type": "code",
   "execution_count": null,
   "id": "692524b8-b9f1-4e7c-b309-ed49b65d2b15",
   "metadata": {},
   "outputs": [],
   "source": [
    "print(system.getNumParticles()) "
   ]
  },
  {
   "cell_type": "code",
   "execution_count": null,
   "id": "5d581a8f-963c-4a35-97d8-239ddc9c1255",
   "metadata": {
    "scrolled": true
   },
   "outputs": [],
   "source": [
    "integrator = openmm.LangevinIntegrator(\n",
    "    300.0 * unit.kelvin, 1.0 / unit.picosecond, 2.0 * unit.femtosecond\n",
    ")\n",
    "platform = openmm.Platform.getPlatformByName(\"Reference\")\n",
    "context = openmm.Context(system, integrator, platform)\n",
    "\n",
    "initial_positions = mol.conformers[0].to_openmm()\n",
    "context.setPositions(initial_positions)\n",
    "\n",
    "# Create an instance of our reporter\n",
    "reporter = Reporter()\n",
    "\n",
    "# Perform local energy minimization\n",
    "print(\"Minimizing energy...\")\n",
    "openmm.LocalEnergyMinimizer.minimize(\n",
    "    context, tolerance=1e-2, maxIterations=1500, reporter=reporter\n",
    ")"
   ]
  },
  {
   "cell_type": "code",
   "execution_count": null,
   "id": "63a8434a-1b8c-43a5-a021-f4eb43877d95",
   "metadata": {},
   "outputs": [],
   "source": [
    "plt.plot(reporter.energies)\n",
    "plt.xlabel(\"Iteration\")\n",
    "plt.ylabel(\"Energy (kJ/mol)\")\n",
    "plt.title(\"Energy Minimization Progress\")\n",
    "plt.show()"
   ]
  },
  {
   "cell_type": "code",
   "execution_count": null,
   "id": "17803ee8-1c34-4afc-ba96-7c4aa90e8152",
   "metadata": {},
   "outputs": [],
   "source": [
    "xml_file_name = \"lee_krimm_benchmark_system.xml\"\n",
    "with open(xml_file_name, \"w\") as xml_file:\n",
    "    xml_file.write(openmm.XmlSerializer.serialize(system))"
   ]
  },
  {
   "cell_type": "code",
   "execution_count": null,
   "id": "746420db-863f-43c2-b91f-0cfbe09e5f44",
   "metadata": {},
   "outputs": [],
   "source": []
  }
 ],
 "metadata": {
  "kernelspec": {
   "display_name": "Python 3 (ipykernel)",
   "language": "python",
   "name": "python3"
  },
  "language_info": {
   "codemirror_mode": {
    "name": "ipython",
    "version": 3
   },
   "file_extension": ".py",
   "mimetype": "text/x-python",
   "name": "python",
   "nbconvert_exporter": "python",
   "pygments_lexer": "ipython3",
   "version": "3.12.7"
  }
 },
 "nbformat": 4,
 "nbformat_minor": 5
}
