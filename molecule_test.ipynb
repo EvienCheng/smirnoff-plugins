{
 "cells": [
  {
   "cell_type": "code",
   "execution_count": 1,
   "id": "e812fd24-a93e-4c07-b32b-367b252bfcd6",
   "metadata": {},
   "outputs": [],
   "source": [
    "from openff.toolkit import ForceField, Molecule\n",
    "from openmm import openmm\n",
    "from openmm import unit\n",
    "import matplotlib.pyplot as plt\n",
    "from rdkit import Chem\n",
    "from rdkit.Chem import Draw\n",
    "import numpy as np"
   ]
  },
  {
   "cell_type": "code",
   "execution_count": 2,
   "id": "7720f256-6acf-4656-8517-e3d3e82eb317",
   "metadata": {},
   "outputs": [],
   "source": [
    "class Reporter(openmm.MinimizationReporter):\n",
    "    interval = 10 # report interval\n",
    "    energies = [] # array to record progress\n",
    "    def report(self, iteration, x, grad, args):\n",
    "        # print current system energy to screen \n",
    "        if iteration % self.interval == 0:\n",
    "            print(iteration, args['system energy'])\n",
    "\n",
    "        # save energy at each iteration to an array we can use later\n",
    "        self.energies.append(args['system energy'])\n",
    "\n",
    "        # The report method must return a bool specifying if minimization should be stopped. \n",
    "        return False"
   ]
  },
  {
   "cell_type": "code",
   "execution_count": 3,
   "id": "de06104f-ce21-46c5-b506-a05b2f0e1544",
   "metadata": {
    "scrolled": true
   },
   "outputs": [],
   "source": [
    "mol = Molecule.from_smiles('CCCC(O)CC(N)CCC', allow_undefined_stereo=True)\n",
    "mol.generate_conformers()\n",
    "# mol.assign_partial_charges(partial_charge_method='am1bccelf10')"
   ]
  },
  {
   "cell_type": "code",
   "execution_count": 4,
   "id": "5b6fc82f-0287-492c-b81a-73a2deb77780",
   "metadata": {},
   "outputs": [
    {
     "name": "stdout",
     "output_type": "stream",
     "text": [
      "Number of atoms in molecule: 32\n",
      "Number of conformers: 1\n"
     ]
    }
   ],
   "source": [
    "print(f\"Number of atoms in molecule: {mol.n_atoms}\")\n",
    "print(f\"Number of conformers: {len(mol.conformers)}\")\n"
   ]
  },
  {
   "cell_type": "code",
   "execution_count": 5,
   "id": "536aca60-9581-45d4-b6be-5809a4cbeb13",
   "metadata": {},
   "outputs": [],
   "source": [
    "forcefield = ForceField('lee-krimm-force-field.offxml', load_plugins = True, allow_cosmetic_attributes = True)\n",
    "# forcefield = ForceField('openff-2.2.0.offxml')"
   ]
  },
  {
   "cell_type": "code",
   "execution_count": 6,
   "id": "137233c9-cd98-45f7-89d2-cd809c076b22",
   "metadata": {
    "scrolled": true
   },
   "outputs": [],
   "source": [
    "system = forcefield.create_openmm_system(mol.to_topology())\n"
   ]
  },
  {
   "cell_type": "code",
   "execution_count": 7,
   "id": "e88f3ac2-ad93-4903-80e5-c4f36ef63cdd",
   "metadata": {},
   "outputs": [
    {
     "name": "stdout",
     "output_type": "stream",
     "text": [
      "Force 0: <class 'openmm.openmm.NonbondedForce'>\n",
      "Force 1: <class 'openmm.openmm.PeriodicTorsionForce'>\n",
      "Force 2: <class 'openmm.openmm.HarmonicAngleForce'>\n",
      "Force 3: <class 'openmm.openmm.HarmonicBondForce'>\n",
      "Force 4: <class 'openmm.openmm.CustomCompoundBondForce'>\n"
     ]
    }
   ],
   "source": [
    "for i in range(system.getNumForces()):\n",
    "    force = system.getForce(i)\n",
    "    print(f\"Force {i}: {type(force)}\")\n"
   ]
  },
  {
   "cell_type": "code",
   "execution_count": 8,
   "id": "692524b8-b9f1-4e7c-b309-ed49b65d2b15",
   "metadata": {},
   "outputs": [
    {
     "name": "stdout",
     "output_type": "stream",
     "text": [
      "32\n"
     ]
    }
   ],
   "source": [
    "print(system.getNumParticles()) "
   ]
  },
  {
   "cell_type": "code",
   "execution_count": 9,
   "id": "5d581a8f-963c-4a35-97d8-239ddc9c1255",
   "metadata": {
    "scrolled": true
   },
   "outputs": [
    {
     "name": "stdout",
     "output_type": "stream",
     "text": [
      "Minimizing energy...\n",
      "0 78.70394052617142\n",
      "10 11.648875113998898\n",
      "20 -9.685525996665822\n",
      "30 -16.79874995096272\n",
      "40 -19.910333605156094\n",
      "50 -21.14524897404649\n",
      "60 -21.910488810928417\n",
      "70 -22.30443108463016\n",
      "80 -22.480306725407484\n",
      "90 -22.54210443598984\n",
      "100 -22.58233004041466\n",
      "110 -22.598656131010497\n",
      "120 -22.61213766819119\n",
      "130 -22.623435452066072\n",
      "140 -22.63090811735999\n",
      "150 -22.635765602755317\n",
      "160 -22.639143991915297\n",
      "170 -22.639648072152998\n",
      "180 -22.640107234451705\n",
      "190 -22.640370501009574\n",
      "200 -22.64061182563775\n",
      "210 -22.640781329420882\n",
      "220 -22.640873461931765\n",
      "230 -22.640984133393978\n",
      "240 -22.641051905280356\n",
      "250 -22.641103922810732\n",
      "260 -22.641128954556606\n",
      "270 -22.641146093189096\n",
      "280 -22.641154071431956\n",
      "290 -22.641156556873753\n",
      "300 -22.641158260253924\n",
      "310 -22.64115970084173\n",
      "320 -22.6411611546341\n",
      "330 -22.641161510714575\n",
      "340 -22.64116172905208\n",
      "350 -22.64116196556925\n",
      "360 -22.64116208772617\n",
      "370 -22.641162132487214\n"
     ]
    }
   ],
   "source": [
    "integrator = openmm.LangevinIntegrator(\n",
    "    300.0 * unit.kelvin, 1.0 / unit.picosecond, 2.0 * unit.femtosecond\n",
    ")\n",
    "platform = openmm.Platform.getPlatformByName(\"Reference\")\n",
    "context = openmm.Context(system, integrator, platform)\n",
    "\n",
    "initial_positions = mol.conformers[0].to_openmm()\n",
    "context.setPositions(initial_positions)\n",
    "\n",
    "# Create an instance of our reporter\n",
    "reporter = Reporter()\n",
    "\n",
    "# Perform local energy minimization\n",
    "print(\"Minimizing energy...\")\n",
    "openmm.LocalEnergyMinimizer.minimize(\n",
    "    context, tolerance=1e-2, maxIterations=1500, reporter=reporter\n",
    ")"
   ]
  },
  {
   "cell_type": "code",
   "execution_count": 10,
   "id": "63a8434a-1b8c-43a5-a021-f4eb43877d95",
   "metadata": {},
   "outputs": [
    {
     "data": {
      "image/png": "[encoded data removed]",
      "text/plain": [
       "<Figure size 640x480 with 1 Axes>"
      ]
     },
     "metadata": {},
     "output_type": "display_data"
    }
   ],
   "source": [
    "plt.plot(reporter.energies)\n",
    "plt.xlabel(\"Iteration\")\n",
    "plt.ylabel(\"Energy (kJ/mol)\")\n",
    "plt.title(\"Energy Minimization Progress\")\n",
    "plt.show()"
   ]
  },
  {
   "cell_type": "code",
   "execution_count": 11,
   "id": "17803ee8-1c34-4afc-ba96-7c4aa90e8152",
   "metadata": {},
   "outputs": [],
   "source": [
    "xml_file_name = \"lee_krimm_benchmark_system.xml\"\n",
    "with open(xml_file_name, \"w\") as xml_file:\n",
    "    xml_file.write(openmm.XmlSerializer.serialize(system))"
   ]
  },
  {
   "cell_type": "code",
   "execution_count": null,
   "id": "746420db-863f-43c2-b91f-0cfbe09e5f44",
   "metadata": {},
   "outputs": [],
   "source": []
  }
 ],
 "metadata": {
  "kernelspec": {
   "display_name": "Python 3 (ipykernel)",
   "language": "python",
   "name": "python3"
  },
  "language_info": {
   "codemirror_mode": {
    "name": "ipython",
    "version": 3
   },
   "file_extension": ".py",
   "mimetype": "text/x-python",
   "name": "python",
   "nbconvert_exporter": "python",
   "pygments_lexer": "ipython3",
   "version": "3.12.7"
  }
 },
 "nbformat": 4,
 "nbformat_minor": 5
}
